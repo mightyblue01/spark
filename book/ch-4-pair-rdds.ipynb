{
 "cells": [
  {
   "cell_type": "code",
   "execution_count": null,
   "metadata": {},
   "outputs": [],
   "source": [
    "val sc = getOrCreate()"
   ]
  },
  {
   "cell_type": "code",
   "execution_count": null,
   "metadata": {},
   "outputs": [],
   "source": [
    "//word count \n",
    "val inputRDD = sc.textFile(\"/home/jovyan/work/sample.rtf\")\n",
    "val resultRDD = inputRDD.flatMap(x => x.split(\" \")).map(x=>(x,1)).reduceByKey((x,y) => x+y)\n",
    "resultRDD.collect"
   ]
  },
  {
   "cell_type": "code",
   "execution_count": null,
   "metadata": {},
   "outputs": [],
   "source": [
    "//creating pair RDDs\n",
    "val inputRDD = sc.textFile(\"/home/jovyan/work/sample.rtf\")\n",
    "val pairsRDD = inputRDD.map(x => (x.split(\" \")(0),x))\n",
    "pairsRDD.collect"
   ]
  },
  {
   "cell_type": "code",
   "execution_count": 29,
   "metadata": {},
   "outputs": [
    {
     "data": {
      "text/plain": [
       "Array((1,3), (3,5), (3,7))"
      ]
     },
     "execution_count": 29,
     "metadata": {},
     "output_type": "execute_result"
    }
   ],
   "source": [
    "//mapValues -- apply a function to each value of pair rdd without changing the key\n",
    "val inputRDD = sc.parallelize(List((1,2),(3,4),(3,6)))\n",
    "inputRDD.mapValues(x => x+1).collect\n"
   ]
  },
  {
   "cell_type": "code",
   "execution_count": 30,
   "metadata": {},
   "outputs": [
    {
     "data": {
      "text/plain": [
       "Array((1,2), (1,3), (1,4), (1,5), (3,4), (3,5))"
      ]
     },
     "execution_count": 30,
     "metadata": {},
     "output_type": "execute_result"
    }
   ],
   "source": [
    "//flatMapValues -- apply a function that returns an iterator to each value of a pair RDD\n",
    "val inputRDD = sc.parallelize(List((1,2),(3,4),(3,6)))\n",
    "inputRDD.flatMapValues(x => (x to 5)).collect"
   ]
  },
  {
   "cell_type": "code",
   "execution_count": 24,
   "metadata": {},
   "outputs": [
    {
     "data": {
      "text/plain": [
       "Array((1,2), (3,10))"
      ]
     },
     "execution_count": 24,
     "metadata": {},
     "output_type": "execute_result"
    }
   ],
   "source": [
    "//reduceByKey\n",
    "val inputRDD = sc.parallelize(List((1,2),(3,4),(3,6)))\n",
    "//-- method 1 -- val resultRDD = inputRDD.reduceByKey((x,y) => x+y)\n",
    "val resultRDD = inputRDD.reduceByKey(_+_)\n",
    "resultRDD.collect"
   ]
  },
  {
   "cell_type": "code",
   "execution_count": 25,
   "metadata": {},
   "outputs": [
    {
     "data": {
      "text/plain": [
       "Array((1,CompactBuffer(2)), (3,CompactBuffer(4, 6)))"
      ]
     },
     "execution_count": 25,
     "metadata": {},
     "output_type": "execute_result"
    }
   ],
   "source": [
    "//groupByKey\n",
    "val inputRDD = sc.parallelize(List((1,2),(3,4),(3,6)))\n",
    "val resultRDD = inputRDD.groupByKey\n",
    "resultRDD.collect"
   ]
  },
  {
   "cell_type": "code",
   "execution_count": 31,
   "metadata": {},
   "outputs": [
    {
     "data": {
      "text/plain": [
       "Array(1, 3, 3)"
      ]
     },
     "execution_count": 31,
     "metadata": {},
     "output_type": "execute_result"
    }
   ],
   "source": [
    "//keys\n",
    "val inputRDD = sc.parallelize(List((1,2),(3,4),(3,6)))\n",
    "inputRDD.keys.collect"
   ]
  },
  {
   "cell_type": "code",
   "execution_count": 32,
   "metadata": {},
   "outputs": [
    {
     "data": {
      "text/plain": [
       "Array(2, 4, 6)"
      ]
     },
     "execution_count": 32,
     "metadata": {},
     "output_type": "execute_result"
    }
   ],
   "source": [
    "//values\n",
    "val inputRDD = sc.parallelize(List((1,2),(3,4),(3,6)))\n",
    "inputRDD.values.collect"
   ]
  },
  {
   "cell_type": "code",
   "execution_count": 49,
   "metadata": {},
   "outputs": [
    {
     "data": {
      "text/plain": [
       "Array(Range(1, 2, 3, 4, 5, 6, 7, 8, 9, 10))"
      ]
     },
     "execution_count": 49,
     "metadata": {},
     "output_type": "execute_result"
    }
   ],
   "source": [
    "//take\n",
    "val inputRDD = sc.parallelize(List(1 to 10))\n",
    "inputRDD.collect"
   ]
  },
  {
   "cell_type": "code",
   "execution_count": 55,
   "metadata": {},
   "outputs": [
    {
     "data": {
      "text/plain": [
       "Array((4,5), (3,4), (3,6), (1,2))"
      ]
     },
     "execution_count": 55,
     "metadata": {},
     "output_type": "execute_result"
    }
   ],
   "source": [
    "//sortByKey  -- boolean parameter - true/default - ascending order, false - descending order\n",
    "val inputRDD = sc.parallelize(List((1,2),(4,5),(3,4),(3,6)))\n",
    "inputRDD.sortByKey(false).collect"
   ]
  },
  {
   "cell_type": "code",
   "execution_count": 54,
   "metadata": {},
   "outputs": [
    {
     "data": {
      "text/plain": [
       "Array((3,6))"
      ]
     },
     "execution_count": 54,
     "metadata": {},
     "output_type": "execute_result"
    }
   ],
   "source": [
    "//filter\n",
    "val inputRDD1 = sc.parallelize(List((1,2),(3,4),(3,6)))\n",
    "val result = inputRDD1.filter{case (key,value) => value > 4}\n",
    "result.collect"
   ]
  },
  {
   "cell_type": "code",
   "execution_count": 58,
   "metadata": {},
   "outputs": [
    {
     "data": {
      "text/plain": [
       "Map(1 -> 1, 3 -> 2)"
      ]
     },
     "execution_count": 58,
     "metadata": {},
     "output_type": "execute_result"
    }
   ],
   "source": [
    "//countByKey  -- count the number of occurences of key\n",
    "val inputRDD1 = sc.parallelize(List((1,2),(3,4),(3,6)))\n",
    "inputRDD1.countByKey()"
   ]
  },
  {
   "cell_type": "code",
   "execution_count": 66,
   "metadata": {},
   "outputs": [
    {
     "data": {
      "text/plain": [
       "Name: Compile Error\n",
       "Message: <console>:21: error: missing argument list for method collect in trait TraversableLike\n",
       "Unapplied methods are only converted to functions when a function type is expected.\n",
       "You can make this conversion explicit by writing `collect _` or `collect(_)(_)` instead of `collect`.\n",
       "       val result = inputRDD1.collectAsMap().collect\n",
       "                                             ^\n",
       "StackTrace: "
      ]
     },
     "execution_count": 66,
     "metadata": {},
     "output_type": "execute_result"
    }
   ],
   "source": [
    "//collectAsMap  -- collect the result as a map to provide easy lookup\n",
    "val inputRDD1 = sc.parallelize(List((1,2),(3,4),(3,6)))\n",
    "val result = inputRDD1.collectAsMap()\n",
    "\n"
   ]
  },
  {
   "cell_type": "code",
   "execution_count": null,
   "metadata": {
    "collapsed": true
   },
   "outputs": [],
   "source": [
    "# 2 Pair RDDs"
   ]
  },
  {
   "cell_type": "code",
   "execution_count": 45,
   "metadata": {},
   "outputs": [
    {
     "data": {
      "text/plain": [
       "Array((1,2))"
      ]
     },
     "execution_count": 45,
     "metadata": {},
     "output_type": "execute_result"
    }
   ],
   "source": [
    "val inputRDD1 = sc.parallelize(List((1,2),(3,4),(3,6)))\n",
    "val inputRDD2 = sc.parallelize(List((3,9)))\n",
    "inputRDD1.subtractByKey(inputRDD2).collect"
   ]
  },
  {
   "cell_type": "code",
   "execution_count": 46,
   "metadata": {},
   "outputs": [
    {
     "data": {
      "text/plain": [
       "Array((3,(4,9)), (3,(6,9)))"
      ]
     },
     "execution_count": 46,
     "metadata": {},
     "output_type": "execute_result"
    }
   ],
   "source": [
    "//join  -- 2 pair RDDs -- inner join betweent two RDDs\n",
    "val inputRDD1 = sc.parallelize(List((1,2),(3,4),(3,6)))\n",
    "val inputRDD2 = sc.parallelize(List((3,9)))\n",
    "inputRDD1.join(inputRDD2).collect"
   ]
  },
  {
   "cell_type": "code",
   "execution_count": 51,
   "metadata": {},
   "outputs": [
    {
     "data": {
      "text/plain": [
       "Array((1,(2,None)), (3,(4,Some(9))), (3,(6,Some(9))))"
      ]
     },
     "execution_count": 51,
     "metadata": {},
     "output_type": "execute_result"
    }
   ],
   "source": [
    "//leftOuterJoin -- join between two RDDs where the key must be present in the second RDD (all keys from first RDD and\n",
    "//matching keys from second RDD)\n",
    "val inputRDD1 = sc.parallelize(List((1,2),(3,4),(3,6)))\n",
    "val inputRDD2 = sc.parallelize(List((3,9)))\n",
    "inputRDD1.leftOuterJoin(inputRDD2).collect"
   ]
  },
  {
   "cell_type": "code",
   "execution_count": 50,
   "metadata": {},
   "outputs": [
    {
     "data": {
      "text/plain": [
       "Array((3,(Some(4),9)), (3,(Some(6),9)))"
      ]
     },
     "execution_count": 50,
     "metadata": {},
     "output_type": "execute_result"
    }
   ],
   "source": [
    "//rightOuterJoin -- join between two RDDs where the key must be present in the first RDD (matching keys from first RDD \n",
    "//and all keys from second RDD)\n",
    "val inputRDD1 = sc.parallelize(List((1,2),(3,4),(3,6)))\n",
    "val inputRDD2 = sc.parallelize(List((3,9)))\n",
    "inputRDD1.rightOuterJoin(inputRDD2).collect"
   ]
  }
 ],
 "metadata": {
  "kernelspec": {
   "display_name": "Apache Toree - Scala",
   "language": "scala",
   "name": "apache_toree_scala"
  },
  "language_info": {
   "file_extension": ".scala",
   "name": "scala",
   "version": "2.11.8"
  }
 },
 "nbformat": 4,
 "nbformat_minor": 2
}
